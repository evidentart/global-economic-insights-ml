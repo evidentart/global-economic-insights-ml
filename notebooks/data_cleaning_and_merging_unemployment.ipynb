{
 "cells": [
  {
   "cell_type": "markdown",
   "id": "80aa25c2-d616-4304-9030-2152077e039f",
   "metadata": {},
   "source": [
    "<h1 align=\"center\"><font size=\"5\">Global Unemployment and GDP Analysis: Data Cleaning, Transformation, and Merging </font></h1>"
   ]
  },
  {
   "cell_type": "markdown",
   "id": "898f9e48-9703-4045-8ada-5f99f5e926f3",
   "metadata": {},
   "source": [
    "### Introduction\n",
    "\n",
    "This notebook documents the full pipeline for preparing a clean, analysis-ready dataset that combines global unemployment statistics with GDP data across countries and years.\n",
    "This cleaned dataset lays the foundation for exploring economic relationships, demographic disparities, and trends over time—especially between unemployment rates and GDP across regions and age groups."
   ]
  },
  {
   "cell_type": "markdown",
   "id": "e684a296-3c92-4c68-b3f8-853945a14cad",
   "metadata": {},
   "source": [
    "#### Preparing and Merging GDP with Unemployment Data\n",
    "\n",
    "This section covers the steps for basic data wrangling, which is the procedure for cleaning and merging the GDP and unemployment datasets:\n",
    "\n",
    "- The first step is to import the appropriate libraries and load the raw datasets from your local files.\n",
    "- The next step is to standardize the country names in the unemployment dataset to match the GDP records for each corresponding country using a custom mapping.\n",
    "- You then want to drop any regions and territories that do not have GDP data; otherwise, you will not be able to complete the merge accurately.\n",
    "- In the next step, you reshape both datasets into long form to perform time-series analysis:\n",
    "  - GDP: Country, Year, GDP\n",
    "  - Unemployment: country_std, Year, Unemployment + demographics\n",
    "- You need to convert the year columns to the integer data type to merge the datasets accurately.\n",
    "- You then merge the datasets on standardized country name and year.\n",
    "- You drop unnecessary columns and filter out rows without GDP or unemployment.\n",
    "- Finally, you preview the cleaned and merged dataset and have the option to save your dataset for future use."
   ]
  },
  {
   "cell_type": "code",
   "execution_count": null,
   "id": "420c654d-4679-4fec-a803-6b2adb006562",
   "metadata": {},
   "outputs": [],
   "source": [
    "# Importing Libraries\n",
    "import pandas as pd\n",
    "\n",
    "# Load the datasets from GitHub (raw URLs)\n",
    "gdp_url = \"https://raw.githubusercontent.com/evidentart/global-economic-insights-ml/main/data/raw_gdp_per_country.csv\"\n",
    "unemp_url = \"https://raw.githubusercontent.com/evidentart/global-economic-insights-ml/main/data/raw_global_unemployment_data.csv\"\n",
    "\n",
    "gdp_df = pd.read_csv(gdp_url)\n",
    "unemp_df = pd.read_csv(unemp_url)\n",
    "\n",
    "# Standardize country names in unemployment dataset\n",
    "country_mapping = {\n",
    "    'Sao Tome and Principe': 'São Tomé and Príncipe',\n",
    "    'Congo, Democratic Republic of the': 'Democratic Republic of the Congo',\n",
    "    'Congo': 'Republic of the Congo',\n",
    "    \"Korea, Democratic People's Republic of\": 'North Korea',\n",
    "    'Korea, Republic of': 'South Korea',\n",
    "    'Iran, Islamic Republic of': 'Iran',\n",
    "    \"Lao People's Democratic Republic\": 'Laos',\n",
    "    'Moldova, Republic of': 'Moldova',\n",
    "    'Macau, China': 'Macau',\n",
    "    'Hong Kong, China': 'Hong Kong',\n",
    "    'Viet Nam': 'Vietnam',\n",
    "    'Palestinian Territories': 'Palestine',\n",
    "    'Russian Federation': 'Russia',\n",
    "    'Brunei Darussalam': 'Brunei'\n",
    "}\n",
    "\n",
    "unemp_df['country_std'] = unemp_df['country_name'].replace(country_mapping)\n",
    "\n",
    "# Drop countries with no GDP data\n",
    "drop_countries = [\n",
    "    'South America', 'Channel Islands', 'French Polynesia',\n",
    "    'United States Virgin Islands', 'New Caledonia', 'Guam', 'Cuba'\n",
    "]\n",
    "unemp_df = unemp_df[~unemp_df['country_std'].isin(drop_countries)]\n",
    "\n",
    "# Reshape GDP dataset to long format (country, year, GDP)\n",
    "gdp_long = gdp_df.melt(id_vars=['Country'], var_name='Year', value_name='GDP')\n",
    "\n",
    "# Convert Year columns to integer for both datasets\n",
    "unemp_df_long = unemp_df.melt(\n",
    "    id_vars=['country_std', 'indicator_name', 'sex', 'age_group', 'age_categories'],\n",
    "    value_vars=[str(y) for y in range(2014, 2025)],\n",
    "    var_name='Year',\n",
    "    value_name='Unemployment'\n",
    ")\n",
    "\n",
    "gdp_long['Year'] = gdp_long['Year'].astype(int)\n",
    "unemp_df_long['Year'] = unemp_df_long['Year'].astype(int)\n",
    "\n",
    "# Merge datasets on standardized country name and year\n",
    "merged_df = pd.merge(\n",
    "    unemp_df_long,\n",
    "    gdp_long,\n",
    "    left_on=['country_std', 'Year'],\n",
    "    right_on=['Country', 'Year'],\n",
    "    how='left'\n",
    ")\n",
    "\n",
    "# Drop duplicate GDP country column\n",
    "merged_df.drop(columns=['Country'], inplace=True)\n",
    "\n",
    "# Filter only years where both GDP and Unemployment exist\n",
    "merged_df_combined = merged_df.dropna(subset=['GDP', 'Unemployment'])\n",
    "\n",
    "# Check the filtered combined dataframe\n",
    "print(\"Filtered combined dataframe sample (only 2020–2024 with GDP):\")\n",
    "print(merged_df_combined.head())\n",
    "\n",
    "# Save filtered merged dataset (optional)\n",
    "# You can skip saving locally or use this to export if needed:\n",
    "# merged_df_combined.to_csv(\"unemployment_gdp_combined_filtered.csv\", index=False)"
   ]
  },
  {
   "cell_type": "markdown",
   "id": "e71ef23b-5aa7-4ec3-a7a5-80fe07b197b1",
   "metadata": {},
   "source": [
    "#### Checking for Missing GDP Data\n",
    "\n",
    "This section reloads the combined dataset from a local file and focuses on identifying gaps in GDP data:\n",
    "\n",
    "1. **Preview the dataset** to confirm successful loading.\n",
    "2. **Count missing GDP values** to assess the extent of missing economic data.\n",
    "3. **Inspect missing GDP entries** by country and year to identify patterns or specific regions/time periods that may require imputation or exclusion in analysis."
   ]
  },
  {
   "cell_type": "code",
   "execution_count": 4,
   "id": "c5d239ea-d7ac-47ae-9bc9-e3226917b5fe",
   "metadata": {},
   "outputs": [
    {
     "name": "stdout",
     "output_type": "stream",
     "text": [
      "   country_std                    indicator_name     sex age_group  \\\n",
      "0  Afghanistan  Unemployment rate by sex and age  Female     15-24   \n",
      "1  Afghanistan  Unemployment rate by sex and age  Female       25+   \n",
      "2  Afghanistan  Unemployment rate by sex and age  Female  Under 15   \n",
      "3  Afghanistan  Unemployment rate by sex and age    Male     15-24   \n",
      "4  Afghanistan  Unemployment rate by sex and age    Male       25+   \n",
      "\n",
      "  age_categories  Year  Unemployment      GDP  \n",
      "0          Youth  2020        21.228  20136.0  \n",
      "1         Adults  2020        14.079  20136.0  \n",
      "2       Children  2020        16.783  20136.0  \n",
      "3          Youth  2020        14.452  20136.0  \n",
      "4         Adults  2020         8.732  20136.0  \n",
      "Number of rows with missing GDP: 0\n",
      "Empty DataFrame\n",
      "Columns: [country_std, Year]\n",
      "Index: []\n"
     ]
    }
   ],
   "source": [
    "import pandas as pd\n",
    "\n",
    "# Load the combined dataset\n",
    "file_path = url = \"https://raw.githubusercontent.com/evidentart/global-economic-insights-ml/main/data/clean_merge_unemployment_gdp.csv\"\n",
    "df = pd.read_csv(file_path)\n",
    "\n",
    "# Check first few rows\n",
    "print(df.head())\n",
    "\n",
    "# Count how many rows have missing GDP\n",
    "missing_gdp_count = df['GDP'].isna().sum()\n",
    "print(f\"Number of rows with missing GDP: {missing_gdp_count}\")\n",
    "\n",
    "# Optionally, check which years/countries are missing GDP\n",
    "missing_gdp_info = df[df['GDP'].isna()][['country_std', 'Year']]\n",
    "print(missing_gdp_info)"
   ]
  }
 ],
 "metadata": {
  "kernelspec": {
   "display_name": "Python 3 (ipykernel)",
   "language": "python",
   "name": "python3"
  },
  "language_info": {
   "codemirror_mode": {
    "name": "ipython",
    "version": 3
   },
   "file_extension": ".py",
   "mimetype": "text/x-python",
   "name": "python",
   "nbconvert_exporter": "python",
   "pygments_lexer": "ipython3",
   "version": "3.11.9"
  }
 },
 "nbformat": 4,
 "nbformat_minor": 5
}
